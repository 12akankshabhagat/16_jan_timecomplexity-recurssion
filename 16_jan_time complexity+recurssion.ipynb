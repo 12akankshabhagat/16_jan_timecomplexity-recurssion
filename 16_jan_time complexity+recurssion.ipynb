{
 "cells": [
  {
   "cell_type": "markdown",
   "id": "4842982b-27ff-445c-90e6-7f3b36201ee7",
   "metadata": {},
   "source": [
    "# Time Complexity + Recursion Assignment"
   ]
  },
  {
   "cell_type": "markdown",
   "id": "4be7f0be-c0b6-426e-9ab3-e798f9501454",
   "metadata": {},
   "source": [
    "## Find time complexity of below code blocks :"
   ]
  },
  {
   "cell_type": "markdown",
   "id": "4ee28743-eb3d-429a-91a7-53796647ddad",
   "metadata": {},
   "source": [
    "###  Problem 1 :"
   ]
  },
  {
   "cell_type": "code",
   "execution_count": null,
   "id": "e8607b04-4485-46db-9636-d0adb455ec55",
   "metadata": {},
   "outputs": [],
   "source": [
    "def quicksort(arr):\n",
    "    if len(arr) <= 1:\n",
    "        return arr\n",
    "pivot = arr[len(arr) // 2]\n",
    "left = [x for x in arr if x < pivot]\n",
    "middle = [x for x in arr if x == pivot]\n",
    "right = [x for x in arr if x > pivot]\n",
    "return quicksort(left) + middle + quicksort(right)\n"
   ]
  },
  {
   "cell_type": "markdown",
   "id": "9d2a3715-927a-4814-bcbd-3c06c379257e",
   "metadata": {},
   "source": [
    "### Average-case time Complexity : O(n log n)\n",
    "### Worst-case time complexity: O(n^2)\n"
   ]
  },
  {
   "cell_type": "code",
   "execution_count": null,
   "id": "aba161ea-b55d-4f64-b76c-eb6479e85c65",
   "metadata": {},
   "outputs": [],
   "source": []
  },
  {
   "cell_type": "code",
   "execution_count": null,
   "id": "5809a490-46e2-4386-9780-d9ff5b0c1b1e",
   "metadata": {},
   "outputs": [],
   "source": []
  },
  {
   "cell_type": "markdown",
   "id": "2fa37e73-0b47-4980-9201-10b2f73363a4",
   "metadata": {},
   "source": [
    "### Problem 2 :"
   ]
  },
  {
   "cell_type": "code",
   "execution_count": null,
   "id": "ebb01dab-9a25-41b7-833c-25fa4373c784",
   "metadata": {},
   "outputs": [],
   "source": [
    "def nested_loop_example(matrix):\n",
    "rows, cols = len(matrix), len(matrix[0])\n",
    "total = 0\n",
    "for i in range(rows):\n",
    "for j in range(cols):\n",
    "total += matrix[i][j]\n",
    "return total"
   ]
  },
  {
   "cell_type": "markdown",
   "id": "1a0b6b44-8b77-409f-9cae-1d91f4a382a2",
   "metadata": {},
   "source": [
    "####  The total number of iterations of the inner operation is the product of the number of rows and the number of columns.\n",
    "####  If the matrix has n rows and m columns, the total number of operations is n * m.\n",
    "#### Therefore, the time complexity of this function is:  O(n*m)\n"
   ]
  },
  {
   "cell_type": "code",
   "execution_count": null,
   "id": "e23c4871-b7f5-4e79-b055-2c490beb5ecb",
   "metadata": {},
   "outputs": [],
   "source": []
  },
  {
   "cell_type": "markdown",
   "id": "547ab63d-c618-4c68-93b9-b8fff096aa2c",
   "metadata": {},
   "source": [
    "### Problem 3 :"
   ]
  },
  {
   "cell_type": "code",
   "execution_count": null,
   "id": "09c5b48f-58f7-4540-b034-f8dab44ab667",
   "metadata": {},
   "outputs": [],
   "source": [
    "def example_function(arr):\n",
    "result = 0\n",
    "for element in arr:\n",
    "result += element\n",
    "return result"
   ]
  },
  {
   "cell_type": "markdown",
   "id": "212111ab-3eb7-4d72-94d6-a086675dfbbb",
   "metadata": {},
   "source": [
    "#### Time complexity : O(n), where n is the length of the array"
   ]
  },
  {
   "cell_type": "code",
   "execution_count": null,
   "id": "26388ef6-7c31-41cf-880c-38b1642857f0",
   "metadata": {},
   "outputs": [],
   "source": []
  },
  {
   "cell_type": "code",
   "execution_count": null,
   "id": "7c75c91c-722a-4962-9e3b-d949a608d0b3",
   "metadata": {},
   "outputs": [],
   "source": []
  },
  {
   "cell_type": "markdown",
   "id": "90c296e9-4deb-4415-8aa5-7af7b074c388",
   "metadata": {},
   "source": [
    "### Problem 4 :"
   ]
  },
  {
   "cell_type": "code",
   "execution_count": null,
   "id": "bee114a5-ffd3-447e-bddd-e15d7032273e",
   "metadata": {},
   "outputs": [],
   "source": [
    "def longest_increasing_subsequence(nums):\n",
    "n = len(nums)\n",
    "lis = [1] * n\n",
    "for i in range(1, n):\n",
    "for j in range(0, i):\n",
    "if nums[i] > nums[j] and lis[i] < lis[j] + 1:\n",
    "lis[i] = lis[j] + 1\n",
    "return max(lis)"
   ]
  },
  {
   "cell_type": "markdown",
   "id": "106287f4-17ba-4755-a146-b0d2486f9343",
   "metadata": {},
   "source": [
    "#### Time complexity: O(n^2)"
   ]
  },
  {
   "cell_type": "code",
   "execution_count": null,
   "id": "5fbfb37e-428e-4022-856e-df0e62b6b5d6",
   "metadata": {},
   "outputs": [],
   "source": []
  },
  {
   "cell_type": "code",
   "execution_count": null,
   "id": "69cfc685-8c2b-4800-a653-60f02038004b",
   "metadata": {},
   "outputs": [],
   "source": []
  },
  {
   "cell_type": "markdown",
   "id": "f43a5276-e85f-4989-8556-5a7810b4bae8",
   "metadata": {},
   "source": [
    "### Problem 5 :"
   ]
  },
  {
   "cell_type": "code",
   "execution_count": null,
   "id": "2080efc9-1572-4a6b-afe7-a7eb3a855756",
   "metadata": {},
   "outputs": [],
   "source": [
    "def mysterious_function(arr):\n",
    "n = len(arr)\n",
    "result = 0\n",
    "for i in range(n):\n",
    "for j in range(i, n):\n",
    "result += arr[i] * arr[j]\n",
    "return result"
   ]
  },
  {
   "cell_type": "markdown",
   "id": "23df3f5d-5f34-4290-8e15-739756f2b43d",
   "metadata": {},
   "source": [
    " #### time complexity is O(n^2)\n"
   ]
  },
  {
   "cell_type": "code",
   "execution_count": null,
   "id": "cb347114-65d1-4b52-be0c-5ca9b087d762",
   "metadata": {},
   "outputs": [],
   "source": []
  },
  {
   "cell_type": "code",
   "execution_count": null,
   "id": "5528daee-7ab0-488f-bf70-313a0f2a7128",
   "metadata": {},
   "outputs": [],
   "source": []
  },
  {
   "cell_type": "markdown",
   "id": "0205d636-a0e3-46a3-ae90-59265e3228f4",
   "metadata": {},
   "source": [
    "# Solve the following problems on recursion"
   ]
  },
  {
   "cell_type": "markdown",
   "id": "54e75637-799b-48f1-b2cb-5fa71bd59aed",
   "metadata": {},
   "source": [
    "### Problem 6 : Sum of Digits"
   ]
  },
  {
   "cell_type": "markdown",
   "id": "0abdf5d8-0b5b-4f5a-9b70-106d29e0c10a",
   "metadata": {},
   "source": [
    "#### Write a recursive function to calculate the sum of digits of a given positive integer.    sum_of_digits(123) -> 6"
   ]
  },
  {
   "cell_type": "code",
   "execution_count": 8,
   "id": "115a9289-1464-44a0-aeb0-bd546bc5eac3",
   "metadata": {},
   "outputs": [
    {
     "name": "stdout",
     "output_type": "stream",
     "text": [
      "6\n"
     ]
    }
   ],
   "source": [
    "def sum_of_digits(num):\n",
    "    if num <= 9:\n",
    "        return num\n",
    "    else:\n",
    "        digit = num % 10\n",
    "        return digit + sum_of_digits(num // 10)\n",
    "print(sum_of_digits(123))  "
   ]
  },
  {
   "cell_type": "code",
   "execution_count": null,
   "id": "9ef9a804-7d36-439d-a28f-015b4b73c31e",
   "metadata": {},
   "outputs": [],
   "source": []
  },
  {
   "cell_type": "markdown",
   "id": "294b57bf-f47a-4d3c-bb54-b3fc792d9fb5",
   "metadata": {},
   "source": [
    "### Problem 7: Fibonacci Series"
   ]
  },
  {
   "cell_type": "markdown",
   "id": "e3f1d64d-6cf8-41fd-8047-c114797e758a",
   "metadata": {},
   "source": [
    "### Write a recursive function to generate the first n numbers of the Fibonacci series. fibonacci_series(6) -> [0, 1, 1, 2, 3, 5]"
   ]
  },
  {
   "cell_type": "code",
   "execution_count": 10,
   "id": "d5a96b88-8bf3-488e-8720-7ad01d952c62",
   "metadata": {},
   "outputs": [
    {
     "name": "stdout",
     "output_type": "stream",
     "text": [
      "[0, 1, 1, 2, 3, 5]\n"
     ]
    }
   ],
   "source": [
    "def fibobacci_series(n):\n",
    "    if n<= 0:\n",
    "        return []\n",
    "    elif n == 1:\n",
    "        return [0]\n",
    "    elif n == 2:\n",
    "        return [0,1]\n",
    "    else:\n",
    "        fibo = fibobacci_series(n-1)\n",
    "        fibo.append(fibo[-1] + fibo[-2])\n",
    "        return fibo\n",
    "print(fibobacci_series(6))"
   ]
  },
  {
   "cell_type": "code",
   "execution_count": null,
   "id": "0d0fbcfd-983f-473c-85b8-9865e567f1d2",
   "metadata": {},
   "outputs": [],
   "source": []
  },
  {
   "cell_type": "markdown",
   "id": "0fa030b7-5778-4978-840a-e7220f2bfe6b",
   "metadata": {},
   "source": [
    "### Problem 8 : Subset Sum"
   ]
  },
  {
   "cell_type": "markdown",
   "id": "d7232285-8d65-46ef-9410-4f348febf924",
   "metadata": {},
   "source": [
    "#### Given a set of positive integers and a target sum, write a recursive function to determine if there exists a subset of the integers that adds up to the target sum.   subset_sum([3, 34, 4, 12, 5, 2], 9) -> True"
   ]
  },
  {
   "cell_type": "code",
   "execution_count": 13,
   "id": "d3792a36-47b9-4637-8c93-985e6c7c1294",
   "metadata": {},
   "outputs": [
    {
     "name": "stdout",
     "output_type": "stream",
     "text": [
      "True\n"
     ]
    }
   ],
   "source": [
    "def subset_sum(nums, target):\n",
    "    # Base case: if the target is 0, an empty subset is valid\n",
    "    if target == 0:\n",
    "        return True\n",
    "\n",
    "    # Base case: if the set is empty and the target is not 0, no subset is valid\n",
    "    if not nums:\n",
    "        return False\n",
    "\n",
    "    # Recursive case: explore two possibilities - include the current element or exclude it\n",
    "    include_current = subset_sum(nums[1:], target - nums[0])\n",
    "    exclude_current = subset_sum(nums[1:], target)\n",
    "\n",
    "    # Return True if either of the possibilities leads to a valid subset\n",
    "    return include_current or exclude_current\n",
    "\n",
    "# Example usage:\n",
    "nums = [3, 34, 4, 12, 5, 2]\n",
    "target_sum = 9\n",
    "result = subset_sum(nums, target_sum)\n",
    "print(result) "
   ]
  },
  {
   "cell_type": "code",
   "execution_count": null,
   "id": "f9c154a1-50c0-44e7-8ed5-43d4c05dbff6",
   "metadata": {},
   "outputs": [],
   "source": []
  },
  {
   "cell_type": "markdown",
   "id": "bfcd4ef1-0576-49dc-8d0f-6a27b4c2386a",
   "metadata": {},
   "source": [
    "### Problem 9: Word Break"
   ]
  },
  {
   "cell_type": "markdown",
   "id": "48b474be-b252-4495-80fc-492de593da75",
   "metadata": {},
   "source": [
    "#### Given a non-empty string and a dictionary of words, write a recursive function to determine if the string can be segmented into a space-separated sequence of dictionary words.  word_break( leetcode , [ leet , code ]) -> True"
   ]
  },
  {
   "cell_type": "code",
   "execution_count": 16,
   "id": "752f94cb-9c00-42a5-98f8-daca9fa510f3",
   "metadata": {},
   "outputs": [
    {
     "name": "stdout",
     "output_type": "stream",
     "text": [
      "True\n"
     ]
    }
   ],
   "source": [
    "def word_break(wordlist,word):\n",
    "    if word == \"\":\n",
    "        return True\n",
    "    else:\n",
    "        wordlen = len(word)\n",
    "        for i in range(1,wordlen+1):\n",
    "            if word[:i] in wordlist and word_break(wordlist,word[i:]):\n",
    "                return True\n",
    "        return False\n",
    "print(word_break([\"leet\",\"code\"],\"leetcode\"))"
   ]
  },
  {
   "cell_type": "code",
   "execution_count": null,
   "id": "2a121b4d-355f-4dcc-be9d-562d5e5da1c6",
   "metadata": {},
   "outputs": [],
   "source": []
  },
  {
   "cell_type": "markdown",
   "id": "c30bfb32-d02d-491a-a2f8-8d2ec8cb68c2",
   "metadata": {},
   "source": [
    "### Problem 10 : N-Queens"
   ]
  },
  {
   "cell_type": "markdown",
   "id": "569e0e06-d73c-463e-8731-b3276cb6e3f9",
   "metadata": {},
   "source": [
    "#### Implement a recursive function to solve the N Queens problem, where you have to place N queens on an N×N chessboard in such a way that no two queens threaten each other."
   ]
  },
  {
   "cell_type": "code",
   "execution_count": null,
   "id": "4bbcac02-228c-4c04-b7a9-1919df2edc9d",
   "metadata": {},
   "outputs": [],
   "source": [
    "n_queens(4)\n",
    "[\n",
    "[\".Q..\",\n",
    "\"...Q\",\n",
    "\"Q...\",\n",
    "\"..Q.\"],\n",
    "[\"..Q.\",\n",
    "\"Q...\",\n",
    "\"...Q\",\n",
    "\".Q..\"]\n",
    "]"
   ]
  },
  {
   "cell_type": "code",
   "execution_count": 17,
   "id": "3ecacf0e-8558-4050-b85c-f9e839e08efc",
   "metadata": {},
   "outputs": [
    {
     "name": "stdout",
     "output_type": "stream",
     "text": [
      "[['.Q..', '...Q', 'Q...', '..Q.'], ['..Q.', 'Q...', '...Q', '.Q..']]\n"
     ]
    }
   ],
   "source": [
    "def n_queens(n):\n",
    "    def is_safe(board, row, col):\n",
    "        # Check if there's a queen in the same column\n",
    "        for i in range(row):\n",
    "            if board[i][col] == 'Q':\n",
    "                return False\n",
    "        \n",
    "        # Check upper-left diagonal\n",
    "        i, j = row - 1, col - 1\n",
    "        while i >= 0 and j >= 0:\n",
    "            if board[i][j] == 'Q':\n",
    "                return False\n",
    "            i -= 1\n",
    "            j -= 1\n",
    "        \n",
    "        # Check upper-right diagonal\n",
    "        i, j = row - 1, col + 1\n",
    "        while i >= 0 and j < n:\n",
    "            if board[i][j] == 'Q':\n",
    "                return False\n",
    "            i -= 1\n",
    "            j += 1\n",
    "        \n",
    "        return True\n",
    "\n",
    "    def backtrack(board, row):\n",
    "        if row == n:\n",
    "            # Found a solution, add it to the result\n",
    "            result.append([\"\".join(row) for row in board])\n",
    "            return\n",
    "        \n",
    "        for col in range(n):\n",
    "            if is_safe(board, row, col):\n",
    "                # Place queen\n",
    "                board[row][col] = 'Q'\n",
    "                # Recur to place queens in next row\n",
    "                backtrack(board, row + 1)\n",
    "                # Backtrack\n",
    "                board[row][col] = '.'\n",
    "\n",
    "    # Initialize empty board\n",
    "    board = [['.' for _ in range(n)] for _ in range(n)]\n",
    "    result = []\n",
    "    backtrack(board, 0)\n",
    "    return result\n",
    "\n",
    "# Example usage:\n",
    "print(n_queens(4))\n"
   ]
  },
  {
   "cell_type": "code",
   "execution_count": null,
   "id": "0787ee95-8061-4823-a505-5b910f6bf8a8",
   "metadata": {},
   "outputs": [],
   "source": []
  }
 ],
 "metadata": {
  "kernelspec": {
   "display_name": "Python 3 (ipykernel)",
   "language": "python",
   "name": "python3"
  },
  "language_info": {
   "codemirror_mode": {
    "name": "ipython",
    "version": 3
   },
   "file_extension": ".py",
   "mimetype": "text/x-python",
   "name": "python",
   "nbconvert_exporter": "python",
   "pygments_lexer": "ipython3",
   "version": "3.10.8"
  }
 },
 "nbformat": 4,
 "nbformat_minor": 5
}
